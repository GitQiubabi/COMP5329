{
  "cells": [
    {
      "cell_type": "markdown",
      "metadata": {
        "id": "view-in-github",
        "colab_type": "text"
      },
      "source": [
        "<a href=\"https://colab.research.google.com/github/GitQiubabi/COMP5329/blob/main/A1_code.ipynb\" target=\"_parent\"><img src=\"https://colab.research.google.com/assets/colab-badge.svg\" alt=\"Open In Colab\"/></a>"
      ]
    },
    {
      "cell_type": "code",
      "execution_count": null,
      "id": "f0aebcc8-ea15-4b45-a9b3-3c1fbd4cbe17",
      "metadata": {
        "id": "f0aebcc8-ea15-4b45-a9b3-3c1fbd4cbe17"
      },
      "outputs": [],
      "source": [
        "import pandas as pd\n",
        "import matplotlib.pyplot as plt\n",
        "import numpy as np\n",
        "import time\n",
        "import zipfile\n",
        "import os"
      ]
    },
    {
      "cell_type": "markdown",
      "id": "e8339a79-0e39-4110-98f0-fa7d98980275",
      "metadata": {
        "id": "e8339a79-0e39-4110-98f0-fa7d98980275"
      },
      "source": [
        "# Data Preprocessing"
      ]
    },
    {
      "cell_type": "code",
      "source": [
        "#download data\n",
        "!wget --header='Host: drive.usercontent.google.com' --header='User-Agent: Mozilla/5.0 (X11; Linux x86_64) AppleWebKit/537.36 (KHTML, like Gecko) Chrome/122.0.0.0 Safari/537.36' --header='Accept: text/html,application/xhtml+xml,application/xml;q=0.9,image/avif,image/webp,image/apng,*/*;q=0.8,application/signed-exchange;v=b3;q=0.7' --header='Accept-Language: en-US,en;q=0.9,vi;q=0.8' --header='Cookie: SID=g.a000hAiDNMGLmlmI8WP2uNc4fkAw9NIT3CBgwOoVfDTLBxXx0VmrU6XWLNUpFLHu3JIEc4BhMwACgYKAVISAQASFQHGX2Mi2hSQ1ylGC0zPDlmcJBzUxxoVAUF8yKqjWqqmbvMg-hENYxu3t_f40076; __Secure-1PSID=g.a000hAiDNMGLmlmI8WP2uNc4fkAw9NIT3CBgwOoVfDTLBxXx0VmrqQa_qA1cQjo6BW-BYvpQwQACgYKAWQSAQASFQHGX2MixrLgKSSMs3o4Q59YBTUDMRoVAUF8yKruVNxSm4tykyFUM08OjtXQ0076; __Secure-3PSID=g.a000hAiDNMGLmlmI8WP2uNc4fkAw9NIT3CBgwOoVfDTLBxXx0Vmr85URed2zxoX9Y2j0N7eEWgACgYKAcYSAQASFQHGX2MiVw8t_A_Cgz1A2WNIJ4xmUxoVAUF8yKosoPrNVWjaKHJpTY72CPi30076; HSID=ACzx1pw3ShKANVjOn; SSID=APFHJjkBX2Ardga4C; APISID=dxNw8ece1kCo5fAO/AXxCaUXF-K7mjXEus; SAPISID=CnQJa7gSq9zp2_u0/A9PUllhZ4wSjix75d; __Secure-1PAPISID=CnQJa7gSq9zp2_u0/A9PUllhZ4wSjix75d; __Secure-3PAPISID=CnQJa7gSq9zp2_u0/A9PUllhZ4wSjix75d; AEC=Ae3NU9P31jMLEqdaxTyRIYabDTkaH3z-0TFndxK6jNbqvrG5onjGEKpAAg; NID=512=RCQW39mQpEN5eL7qADv5XDGHRBIfDjig6TwJD0w-A8gQ8YdqQJEZ-sXc2D7-0LOcwUZYnn3nLYEr104Gh37rgn1R6_Z_qfBE-HRRgG94j4TXvi48nydZibrQaejXzu-y-kuN16zUsEzs25XwV7QgWSRYvYs20Sn45IQI78iRwzWFtWO0nyCTUyISif82pAimT8ChvS58bVNMwGdL7bRawtrdbfDjcXXsihMSdGje70rQsVNqSNFkY4f9BvGUay90YTQ72aHE-DYdiiMbWGwpvzSIxueS4uWJz-yxS_x-IK2R7xq13ChfuEqik-xvSK6CQQU0bKt3oY1HZYkcEdpJ5gSJLPuXgG0tY04YMph3kYlXzzJSUxeaBMsOyU7YPHL-XjfzpkNYR297-ipjYbNDB10C6GH1w8L5Xbp2qOn6FSLySP5WUxJp1B0xaIpm3cbpLS9Ok8Me7wYeYxoRH_mA145eX-YTE1PipMY78gMAgiKDjYqo3osQ2XjF5wUPgxbs66oO3VFzwUJaqM-m8NUWu1OirP_9ufD--S7x_5nt5oauYlWiBFM0ZBS6zqPy-go7DXfMq_2A52b2PsC2xweayFP7FSXd6qZskGzf6SRkKmzCwnLVQt7QHuYgnO9s42HZYV_Na3j579mmxXcd9RXzha-ONjnyl87MdmbvC48iNHXFjuTBidu4ak-Be7ktV7hzaNc5EkRevbuEBE4sZLbCaXnq25qciTumEDR-PkJ6BkcWmSHhmt1ncpxzflDcBqnPn9-AKAKkr3-6pXF6qlqzwWUHOJnH3NBF7UonA27oz-x6p83ZgAI_HBQut8ObTikULyEN7AZl7AGysZdetlzVRGWJMxeE5sLasKc2b-YMiEu5lLrgHzCrnePW9T15JrhXHxtnApgxuqngR0jzTdPnYAwUzosBukdxKd2MM87ixRgUhx3hwAL-X2hY-8mcaLywiduBgobC7DnPuuYJp5I; 1P_JAR=2024-03-12-23; __Secure-1PSIDTS=sidts-CjIBYfD7Z-RV7pAeo2n3jdeML5aQ-RWhxljnj4V2m60vIvD8TpxpccqdF_7po3xAznp2IhAA; __Secure-3PSIDTS=sidts-CjIBYfD7Z-RV7pAeo2n3jdeML5aQ-RWhxljnj4V2m60vIvD8TpxpccqdF_7po3xAznp2IhAA; SIDCC=AKEyXzWgMDAURtbhYZZaukOmlkB0yP-68WeDLD0w9sP-YXDQSisq6R4VGwiObhKlCUyZYQrhr2_h; __Secure-1PSIDCC=AKEyXzXMSMZTuNARscTVdkkSv8kvEcLts8crm5ZvDXCcZb4bcNdLCmv7ptgFbKJT6ZMAPcrVYhc; __Secure-3PSIDCC=AKEyXzXOPe8GuBWvIMs9VJQK7vEMpnOHw1xc7HBylZEKqDUOPQPFi4i8Lgd4i5eylN2Kp0rgmGU8' --header='Connection: keep-alive' 'https://drive.usercontent.google.com/download?id=1--R9BajB93t5bNaK4VMEBcVQQJGPqSYv&export=download&authuser=0&confirm=t&uuid=7d82a59a-e8bc-4f4a-9498-9d86a6e63924&at=APZUnTULQyXo28wH5AmkTCXafwHk%3A1710286096144' -c -O 'Assignment1-Dataset.zip'"
      ],
      "metadata": {
        "colab": {
          "base_uri": "https://localhost:8080/"
        },
        "id": "CeTFMzpM5L1f",
        "outputId": "02706279-c18c-430f-c2d6-c72486ea2e3c"
      },
      "id": "CeTFMzpM5L1f",
      "execution_count": null,
      "outputs": [
        {
          "output_type": "stream",
          "name": "stdout",
          "text": [
            "--2024-04-12 10:52:04--  https://drive.usercontent.google.com/download?id=1--R9BajB93t5bNaK4VMEBcVQQJGPqSYv&export=download&authuser=0&confirm=t&uuid=7d82a59a-e8bc-4f4a-9498-9d86a6e63924&at=APZUnTULQyXo28wH5AmkTCXafwHk%3A1710286096144\n",
            "Resolving drive.usercontent.google.com (drive.usercontent.google.com)... 74.125.197.132, 2607:f8b0:400e:c03::84\n",
            "Connecting to drive.usercontent.google.com (drive.usercontent.google.com)|74.125.197.132|:443... connected.\n",
            "HTTP request sent, awaiting response... 416 Requested range not satisfiable\n",
            "\n",
            "    The file is already fully retrieved; nothing to do.\n",
            "\n"
          ]
        }
      ]
    },
    {
      "cell_type": "code",
      "execution_count": null,
      "id": "7162d9c5-c001-43a0-bc74-9dfb0f3b68bf",
      "metadata": {
        "id": "7162d9c5-c001-43a0-bc74-9dfb0f3b68bf"
      },
      "outputs": [],
      "source": [
        "# Load data from npy files\n",
        "with zipfile.ZipFile('/content/Assignment1-Dataset.zip', 'r') as zip_ref:\n",
        "  zip_ref.extractall(\"/content/\")\n",
        "  X_train = np.load(os.path.join('/content/', 'Assignment1-Dataset/train_data.npy'))\n",
        "  y_train = np.load(os.path.join('/content/', 'Assignment1-Dataset/train_label.npy'))\n",
        "  X_test = np.load(os.path.join('/content/', 'Assignment1-Dataset/test_data.npy'))\n",
        "  y_test = np.load(os.path.join('/content/', 'Assignment1-Dataset/test_label.npy'))"
      ]
    },
    {
      "cell_type": "code",
      "execution_count": null,
      "id": "fa8dfbea-6e04-4ad3-8c78-411f90f3d341",
      "metadata": {
        "colab": {
          "base_uri": "https://localhost:8080/"
        },
        "id": "fa8dfbea-6e04-4ad3-8c78-411f90f3d341",
        "outputId": "ab7fea97-7c8a-4c35-ac22-a01c3c104e42"
      },
      "outputs": [
        {
          "output_type": "execute_result",
          "data": {
            "text/plain": [
              "((50000, 128), (50000, 1))"
            ]
          },
          "metadata": {},
          "execution_count": 19
        }
      ],
      "source": [
        "# display the shape of training dataset\n",
        "X_train.shape, y_train.shape"
      ]
    },
    {
      "cell_type": "code",
      "execution_count": null,
      "id": "0b334b1d-d735-4110-a704-1502908c4c3e",
      "metadata": {
        "id": "0b334b1d-d735-4110-a704-1502908c4c3e",
        "outputId": "1b5b7dab-9004-4026-a047-fa4d5f4c2301"
      },
      "outputs": [
        {
          "data": {
            "text/plain": [
              "((10000, 128), (10000, 1))"
            ]
          },
          "execution_count": 4,
          "metadata": {},
          "output_type": "execute_result"
        }
      ],
      "source": [
        "# display the shape of testing dataset\n",
        "X_test.shape, y_test.shape"
      ]
    },
    {
      "cell_type": "code",
      "execution_count": null,
      "id": "cccaecd0-e38e-4e2c-b765-61dcfaa01316",
      "metadata": {
        "id": "cccaecd0-e38e-4e2c-b765-61dcfaa01316"
      },
      "outputs": [],
      "source": [
        "def split_train_valid(X, y, split = 0.8):\n",
        "    \"\"\"\n",
        "    this function is used to split the total training dataset into training set and validation set\n",
        "    X: features for the total training set\n",
        "    y: labels for the total training set\n",
        "    split: the fraction of the dataset\n",
        "    \"\"\"\n",
        "    # shuffle the data\n",
        "    index = np.arange(X.shape[0])\n",
        "    np.random.shuffle(index)\n",
        "    X = X[index]\n",
        "    y = y[index]\n",
        "\n",
        "    #split the data\n",
        "    split_size = int(X.shape[0] * split)\n",
        "    X_train_splited = X[:split_size]\n",
        "    y_train_splited = y[:split_size]\n",
        "\n",
        "    X_valid = X[split_size:]\n",
        "    y_valid = y[split_size:]\n",
        "\n",
        "    return X_train_splited, y_train_splited, X_valid, y_valid"
      ]
    },
    {
      "cell_type": "code",
      "execution_count": null,
      "id": "287b8b31-d917-4e83-a577-08d3640e9499",
      "metadata": {
        "id": "287b8b31-d917-4e83-a577-08d3640e9499"
      },
      "outputs": [],
      "source": [
        "def one_hot(labels):\n",
        "    \"\"\"\n",
        "    the function is to convert the label(number) of each sample into one-hot encoded format\n",
        "    labels: the list of labels for each sample\n",
        "    \"\"\"\n",
        "    unique = len(np.unique(labels))\n",
        "    label_output = np.zeros((len(labels),unique))\n",
        "    for i in range(len(labels)):\n",
        "        label_output[i, labels[i]] = 1\n",
        "    return label_output"
      ]
    },
    {
      "cell_type": "code",
      "execution_count": null,
      "id": "88dd9755-f04a-4b37-988e-703cc5ea2475",
      "metadata": {
        "id": "88dd9755-f04a-4b37-988e-703cc5ea2475",
        "outputId": "204ac844-497c-4dc3-bd26-db71db685f5f"
      },
      "outputs": [
        {
          "data": {
            "text/plain": [
              "((40000, 128), (40000, 1), (10000, 128), (10000, 1))"
            ]
          },
          "execution_count": 7,
          "metadata": {},
          "output_type": "execute_result"
        }
      ],
      "source": [
        "X_train_splited, y_train_splited, X_valid, y_valid = split_train_valid(X_train, y_train)\n",
        "y_train_onehot_splited = one_hot(y_train_splited)\n",
        "X_train_splited.shape, y_train_splited.shape, X_valid.shape, y_valid.shape"
      ]
    },
    {
      "cell_type": "code",
      "execution_count": null,
      "id": "71d3a123-3c5d-4f6e-8f15-c237a8e6e703",
      "metadata": {
        "id": "71d3a123-3c5d-4f6e-8f15-c237a8e6e703",
        "outputId": "0f7e21cb-b264-43fc-f3fd-f8e53b3a6452"
      },
      "outputs": [
        {
          "data": {
            "text/plain": [
              "array([[0., 1., 0., 0., 0., 0., 0., 0., 0., 0.],\n",
              "       [0., 0., 0., 0., 0., 1., 0., 0., 0., 0.],\n",
              "       [0., 0., 0., 0., 0., 0., 1., 0., 0., 0.],\n",
              "       [0., 0., 0., 0., 0., 0., 0., 0., 0., 1.],\n",
              "       [0., 0., 0., 0., 0., 1., 0., 0., 0., 0.],\n",
              "       [0., 1., 0., 0., 0., 0., 0., 0., 0., 0.],\n",
              "       [0., 0., 0., 0., 0., 0., 1., 0., 0., 0.],\n",
              "       [0., 0., 1., 0., 0., 0., 0., 0., 0., 0.],\n",
              "       [0., 0., 0., 0., 0., 0., 0., 0., 0., 1.]])"
            ]
          },
          "execution_count": 8,
          "metadata": {},
          "output_type": "execute_result"
        }
      ],
      "source": [
        "y_train_onehot_splited[0:9]"
      ]
    },
    {
      "cell_type": "markdown",
      "id": "20e3b668-8d76-41b8-a67c-c9cd28cc587f",
      "metadata": {
        "id": "20e3b668-8d76-41b8-a67c-c9cd28cc587f"
      },
      "source": [
        "# MLP"
      ]
    },
    {
      "cell_type": "code",
      "execution_count": null,
      "id": "52304819-e09d-4fe5-af03-fc73067993cb",
      "metadata": {
        "id": "52304819-e09d-4fe5-af03-fc73067993cb"
      },
      "outputs": [],
      "source": [
        "class Activation(object):\n",
        "    def __tanh(self, x):\n",
        "        return np.tanh(x)\n",
        "\n",
        "    def __tanh_deriv(self, a):\n",
        "        return 1.0 - a ** 2\n",
        "\n",
        "    def __logistic(self, x):\n",
        "        return 1.0 / (1.0 + np.exp(-x))\n",
        "\n",
        "    def __logistic_deriv(self, a):\n",
        "        return  a * (1 - a )\n",
        "\n",
        "    def __relu(self, x):\n",
        "        # relu activation\n",
        "        return np.maximum(0, x)\n",
        "\n",
        "    def __relu_deriv(self, a):\n",
        "        # the derivative of relu activation\n",
        "        return np.where(a > 0, 1, 0)\n",
        "\n",
        "    def __gelu(self, x):\n",
        "        # gelu activation\n",
        "        x = np.clip(x,  1e-10, 1-1e-10)\n",
        "        return 0.5 * x * (1 + np.tanh(np.sqrt(2 / np.pi) * (x + 0.044715 * (x ** 3))))\n",
        "\n",
        "    def sech2(self, x):\n",
        "        # implementation of sech^2(x)\n",
        "        return 1 - np.tanh(x) ** 2\n",
        "\n",
        "    def __gelu_deriv(self, x):\n",
        "        # the derivative of gelu activation\n",
        "        x = np.clip(x,  1e-10, 1-1e-10)\n",
        "        d1 = 0.5 * (1 + np.tanh(np.sqrt(2 / np.pi) * (x + 0.044715 * (x ** 3))))\n",
        "        d2 = 0.5 * x * self.sech2(np.sqrt(2 / np.pi) * (x + 0.044715 * (x ** 3))) * np.sqrt(2 / np.pi) * (1 + 3 * 0.44715 * (x ** 2))\n",
        "        return d1 + d2\n",
        "\n",
        "    def __softmax(self, x):\n",
        "        # softmax activation\n",
        "        xMax = np.max(x, axis = 1, keepdims = True)\n",
        "        return np.exp(x - xMax) / np.sum(np.exp(x - xMax), axis = 1, keepdims = True)\n",
        "\n",
        "    def __softmax_deriv(self, y, y_hat):\n",
        "        # the derivative of softmax\n",
        "        return y_hat - y\n",
        "\n",
        "    def __init__(self, activation = 'relu'):\n",
        "        \"\"\"\n",
        "        the Activation class is about the application of various activation functions and their\n",
        "        derivatives. The implementation of logistic and tanh is from COMP5329 tutoral 2\n",
        "        the formula of gelu is from https://arxiv.org/pdf/2305.12073v2.pdf\n",
        "        activation: the string for the name of activation\n",
        "        \"\"\"\n",
        "        if activation == 'logistic':\n",
        "            self.f = self.__logistic\n",
        "            self.f_deriv = self.__logistic_deriv\n",
        "        elif activation == 'tanh':\n",
        "            self.f = self.__tanh\n",
        "            self.f_deriv = self.__tanh_deriv\n",
        "        elif activation == 'relu':\n",
        "            self.f = self.__relu\n",
        "            self.f_deriv = self.__relu_deriv\n",
        "        elif activation == 'gelu':\n",
        "            self.f = self.__gelu\n",
        "            self.f_deriv = self.__gelu_deriv\n",
        "        elif activation == \"softmax\":\n",
        "            self.f = self.__softmax\n",
        "            self.f_deriv = self.__softmax_deriv"
      ]
    },
    {
      "cell_type": "code",
      "execution_count": null,
      "id": "b66506ff-d80d-46e3-869e-f0cb4189df6b",
      "metadata": {
        "id": "b66506ff-d80d-46e3-869e-f0cb4189df6b"
      },
      "outputs": [],
      "source": [
        "class HiddenLayer(object):\n",
        "    \"\"\"\n",
        "    the construction for neural network layer, include batch normalization, activation and dropout\n",
        "    \"\"\"\n",
        "    def __init__(self, n_in, n_out, activation_last_layer = 'relu',activation = 'relu', W = None, b = None, keep_prob = 1, batch_normlization = True):\n",
        "        \"\"\"\n",
        "        initialization of parameters of neural network layer\n",
        "        n_in: the number of input to the layer\n",
        "        n_out: the number of output of the layer\n",
        "        activation_last_layer: the activation function for the last layer\n",
        "        activation: the activation funciton for the current layer\n",
        "        W: weight\n",
        "        b: biase\n",
        "        keep_prob: the probability of keep a unit\n",
        "        batch_normlization: activate batch normalization or not\n",
        "        \"\"\"\n",
        "        self.input = None\n",
        "        self.activation = Activation(activation).f\n",
        "        self.activation_deriv = None\n",
        "\n",
        "        self.batch_normlization = batch_normlization\n",
        "        self.keep_prob = keep_prob\n",
        "        self.n_in = n_in\n",
        "        self.n_out = n_out\n",
        "        # check whether it is the softmax layer\n",
        "        if activation == \"softmax\":\n",
        "            self.softmax_layer = True\n",
        "        else:\n",
        "            self.softmax_layer = False\n",
        "\n",
        "        if activation_last_layer:\n",
        "            self.activation_deriv = Activation(activation_last_layer).f_deriv\n",
        "\n",
        "        self.W = np.random.uniform(\n",
        "                low =- np.sqrt(6. / (n_in + n_out)),\n",
        "                high = np.sqrt(6. / (n_in + n_out)),\n",
        "                size = (n_in, n_out)\n",
        "        )\n",
        "\n",
        "        self.b = np.zeros(n_out,)\n",
        "\n",
        "        self.grad_W = np.zeros(self.W.shape)\n",
        "        self.grad_b = np.zeros(self.b.shape)\n",
        "\n",
        "        # variables for momentum\n",
        "        self.v_W = np.zeros_like(self.grad_W)\n",
        "        self.v_b = np.zeros_like(self.grad_b)\n",
        "\n",
        "        # variables for batch normalization\n",
        "        self.gamma = None\n",
        "        self.beta = None\n",
        "\n",
        "        self.v_gamma = np.zeros_like(self.gamma)\n",
        "        self.v_beta = np.zeros_like(self.beta)\n",
        "\n",
        "        self.dgamma = 0\n",
        "        self.dbeta = 0\n",
        "\n",
        "    def forward(self, input):\n",
        "        '''\n",
        "        Forward Propagation, takes the input and generate the output\n",
        "        input: the data for input of each layer\n",
        "        '''\n",
        "        lin_output = np.dot(input, self.W) + self.b\n",
        "        self.input = input\n",
        "\n",
        "        # the initialization of gamma and beta for batch normal\n",
        "        if self.gamma is None or self.beta is None:\n",
        "            self.gamma = np.ones((1, self.n_out))\n",
        "            self.beta = np.zeros((1, self.n_out))\n",
        "\n",
        "        # do batch normalization for the layer\n",
        "        if self.batch_normlization and not self.softmax_layer:\n",
        "            self.mean = np.mean(lin_output)\n",
        "            self.variance = np.var(lin_output)\n",
        "            self.std = np.sqrt(self.variance + 1e-8)\n",
        "            self.lin_output_hat = (lin_output - self.mean) / self.std\n",
        "            lin_output = self.gamma * self.lin_output_hat + self.beta\n",
        "\n",
        "        # dropout for the layer\n",
        "        if self.keep_prob < 1 and not self.softmax_layer:\n",
        "            self.drop_list = np.random.rand(lin_output.shape[0], lin_output.shape[1]) < self.keep_prob\n",
        "            lin_output = np.multiply(lin_output, self.drop_list)\n",
        "            lin_output /= self.keep_prob\n",
        "\n",
        "        self.output = (\n",
        "            lin_output if self.activation is None\n",
        "            else self.activation(lin_output)\n",
        "        )\n",
        "\n",
        "        return self.output\n",
        "\n",
        "    def backward(self, delta, weight_decay = 0.1):\n",
        "        \"\"\"\n",
        "        backward propagation, calculate the gradients of weights, biases, dropout backward,\n",
        "        batch normal backward and weight decay, the formula of backward batch normal\n",
        "        is from: https://zhuanlan.zhihu.com/p/45614576?utm_id=0\n",
        "        delta: the gradient of the loss\n",
        "        weight_decay: the weight decay parameter\n",
        "        \"\"\"\n",
        "        self.grad_W = np.atleast_2d(self.input).T.dot(np.atleast_2d(delta)) / self.input.shape[0]\n",
        "        self.grad_b = np.sum(delta, axis = 0, keepdims = True) / self.input.shape[0]\n",
        "\n",
        "        # dropout backward\n",
        "        if not self.softmax_layer and self.keep_prob < 1:\n",
        "            delta = np.multiply(delta, self.drop_list)\n",
        "            delta = delta / self.keep_prob\n",
        "\n",
        "        # backward batch norml\n",
        "        if self.batch_normlization and not self.softmax_layer:\n",
        "            self.dgamma = np.sum(delta * self.lin_output_hat, axis = 0)\n",
        "            self.dbeta = np.sum(delta, axis = 0)\n",
        "\n",
        "            N = self.input.shape[0]\n",
        "            dinput_hat = np.matmul(np.ones((N, 1)), self.gamma.reshape((1, -1))) * delta\n",
        "            delta = N * dinput_hat - np.sum(dinput_hat, axis = 0) - self.lin_output_hat * np.sum(dinput_hat * self.lin_output_hat, axis = 0)\n",
        "            delta = delta * self.std * (1.0 / N)\n",
        "\n",
        "        #weight decay\n",
        "        if not self.softmax_layer and weight_decay > 0:\n",
        "            self.grad_W += weight_decay * self.W / self.input.shape[0]\n",
        "\n",
        "        if self.activation_deriv:\n",
        "            delta = delta.dot(self.W.T) * self.activation_deriv(self.input)\n",
        "\n",
        "        return delta\n",
        "\n",
        "class MLP:\n",
        "    \"\"\"\n",
        "    construction of the Multi-Layer Perceptron\n",
        "    \"\"\"\n",
        "    # for initiallization, the code will create all layers automatically based on the provided parameters.\n",
        "    def __init__(self, layers, activation = [None,'relu','softmax'], momentum = 0.9, weight_decay = 0.0005, keep_prob = 0.9, batch_normal = True):\n",
        "        \"\"\"\n",
        "        initialize the parameter used in MLP, and create layers. The Hidden Layer is constructed by\n",
        "        HiddenLayer class\n",
        "        layers: list of layer size\n",
        "        activation: list of activation method\n",
        "        momentum: the momentum parameter\n",
        "        weight_decay: the weight decay parameter\n",
        "        keep_prob: the probability for a unit be kept\n",
        "        batch_normal: bool, used batch normal or not\n",
        "        \"\"\"\n",
        "        self.layers = []\n",
        "        self.params = []\n",
        "\n",
        "        self.batch_normal = batch_normal\n",
        "        self.weight_decay = weight_decay\n",
        "        self.momentum = momentum\n",
        "        self.activation = activation\n",
        "        self.keep_prob = keep_prob\n",
        "        for i in range(len(layers) - 1):\n",
        "            self.layers.append(HiddenLayer(layers[i],layers[i + 1],activation[i],activation[i + 1], keep_prob = self.keep_prob, batch_normlization = self.batch_normal))\n",
        "\n",
        "\n",
        "    def forward(self,input):\n",
        "        \"\"\"\n",
        "        the process of the input through each layer\n",
        "        input: the input for each layer\n",
        "        \"\"\"\n",
        "        for layer in self.layers:\n",
        "            output = layer.forward(input)\n",
        "            input = output\n",
        "        return output\n",
        "\n",
        "    def cross_entropy(self, y, y_hat):\n",
        "        \"\"\"\n",
        "        the calcualtion of cross-entropy loss\n",
        "        y: the true label\n",
        "        y_hat: the predicted label\n",
        "        \"\"\"\n",
        "        loss = -np.sum(np.multiply(y, np.log(y_hat))) / y.shape[0]\n",
        "        delta = Activation(self.activation[-1]).f_deriv(y, y_hat)\n",
        "        return loss, delta\n",
        "\n",
        "    def backward(self,delta):\n",
        "        \"\"\"\n",
        "        the process of backpropagation\n",
        "        delta: the gradient of loss\n",
        "        \"\"\"\n",
        "        delta = self.layers[-1].backward(delta, weight_decay = self.weight_decay)\n",
        "        for layer in reversed(self.layers[:-1]):\n",
        "            delta = layer.backward(delta)\n",
        "\n",
        "    def update(self, learning_rate):\n",
        "        \"\"\"\n",
        "        update parameter in layers\n",
        "        learning_rate: the learning rate for the model\n",
        "        \"\"\"\n",
        "        for layer in self.layers:\n",
        "            if self.momentum is not None:\n",
        "                layer.v_W = (self.momentum * layer.v_W) + (learning_rate * layer.grad_W)\n",
        "                layer.W = layer.W - layer.v_W\n",
        "\n",
        "                layer.v_b = (self.momentum * layer.v_b) + (learning_rate * layer.grad_b)\n",
        "                layer.b = layer.b - layer.v_b\n",
        "            else:\n",
        "                layer.W -= learning_rate * layer.grad_W\n",
        "                layer.b -= learning_rate * layer.grad_b\n",
        "\n",
        "\n",
        "            if self.batch_normal:\n",
        "                layer.v_gamma = (self.momentum * layer.v_gamma) - (learning_rate * layer.dgamma)\n",
        "                layer.gamma += layer.v_gamma\n",
        "\n",
        "                layer.v_beta = (self.momentum * layer.v_beta) - (learning_rate * layer.dbeta)\n",
        "                layer.beta += layer.v_beta\n",
        "\n",
        "    def fit(self, X, y, learning_rate = 0.1, epochs = 100, batch_size = 16):\n",
        "        \"\"\"\n",
        "        the function used to train the model over epochs and batchs\n",
        "        X: the samples training set\n",
        "        y: the labels for the training set\n",
        "        learning_rate: the learning rate of the model\n",
        "        batch_size: the batch size of mini batch\n",
        "        \"\"\"\n",
        "        X = np.array(X)\n",
        "        y = np.array(y)\n",
        "        to_return = np.zeros(epochs)\n",
        "        batch_num = int(np.ceil(len(X) / batch_size))\n",
        "\n",
        "        for k in range(epochs):\n",
        "            shuffle_index = np.random.permutation(len(X))\n",
        "            X_shuffled = X[shuffle_index]\n",
        "            y_shuffled = y[shuffle_index]\n",
        "            loss = np.zeros(batch_num)\n",
        "\n",
        "            for i in range(batch_num):\n",
        "                # Create minibatch\n",
        "                index_start = i * batch_size\n",
        "                index_end = min((i + 1) * batch_size, len(X))\n",
        "                X_batch = X_shuffled[index_start : index_end]\n",
        "                y_batch = y_shuffled[index_start : index_end]\n",
        "\n",
        "                # Forward pass\n",
        "                y_hat = self.forward(X_batch)\n",
        "\n",
        "                # Calculate loss and perform backward pass\n",
        "                loss[i], delta = self.cross_entropy(y_batch, y_hat)\n",
        "\n",
        "                # Append current batch loss\n",
        "                self.backward(delta)\n",
        "\n",
        "                # Update parameters\n",
        "                self.update(learning_rate)\n",
        "\n",
        "            loss_m = np.mean(loss)\n",
        "            to_return[k] = loss_m # Store the average loss for this epoch\n",
        "\n",
        "        return to_return\n",
        "\n",
        "    def predict(self, x):\n",
        "        \"\"\"\n",
        "        the function which make predictions by using the trained model\n",
        "        x: the samples used for make prediction\n",
        "        \"\"\"\n",
        "        x = np.array(x)\n",
        "        output = []\n",
        "        for i in np.arange(x.shape[0]):\n",
        "            output.append(self.forward(x[i,:]))\n",
        "        return output"
      ]
    },
    {
      "cell_type": "markdown",
      "id": "5da3f8f1-3a06-41a3-94b8-11d2bf525836",
      "metadata": {
        "id": "5da3f8f1-3a06-41a3-94b8-11d2bf525836"
      },
      "source": [
        "# Experiments"
      ]
    },
    {
      "cell_type": "markdown",
      "id": "8d49d522-3eca-4184-be49-e6a15612d827",
      "metadata": {
        "id": "8d49d522-3eca-4184-be49-e6a15612d827"
      },
      "source": [
        "activation function for hidden layer"
      ]
    },
    {
      "cell_type": "code",
      "execution_count": null,
      "id": "c99f7006-e210-4987-8665-2bb936399142",
      "metadata": {
        "id": "c99f7006-e210-4987-8665-2bb936399142",
        "outputId": "c99a3a98-2afb-4578-bf0e-9e9c8a2598a1"
      },
      "outputs": [
        {
          "name": "stdout",
          "output_type": "stream",
          "text": [
            "loss:0.879368\n",
            "time taken 145.51151037216187\n"
          ]
        }
      ],
      "source": [
        "start_time = time.time()\n",
        "nn_relu = MLP([128, 256, 256, 10], [None, 'relu', 'relu', 'softmax'],  momentum = 0.9, weight_decay = 0.0005, keep_prob = 0.9, batch_normal = True)\n",
        "relu_cross_entropy = nn_relu.fit(X_train_splited, y_train_onehot_splited, learning_rate = 0.001, epochs = 100, batch_size = 64)\n",
        "print(\"loss:%f\"%relu_cross_entropy[-1])\n",
        "end_time = time.time()\n",
        "print(\"time taken\", end_time - start_time)"
      ]
    },
    {
      "cell_type": "code",
      "execution_count": null,
      "id": "6b532f33-c663-43bc-8a9e-08e3e715ba40",
      "metadata": {
        "id": "6b532f33-c663-43bc-8a9e-08e3e715ba40",
        "outputId": "346c0823-f796-4776-ce48-27e41b106530"
      },
      "outputs": [
        {
          "name": "stdout",
          "output_type": "stream",
          "text": [
            "loss:1.470774\n",
            "time taken 469.67574286460876\n"
          ]
        }
      ],
      "source": [
        "start_time = time.time()\n",
        "nn_gelu = MLP([128, 256, 256, 10], [None, 'gelu', 'gelu', 'softmax'],  momentum = 0.9, weight_decay = 0.0005, keep_prob = 0.9, batch_normal = True)\n",
        "gelu_cross_entropy = nn_gelu.fit(X_train_splited, y_train_onehot_splited, learning_rate = 0.01, epochs = 100, batch_size = 64)\n",
        "print(\"loss:%f\"%gelu_cross_entropy[-1])\n",
        "end_time = time.time()\n",
        "print(\"time taken\", end_time - start_time)"
      ]
    },
    {
      "cell_type": "code",
      "execution_count": null,
      "id": "58ccfbae-702b-4e58-a465-179a00f59aa1",
      "metadata": {
        "id": "58ccfbae-702b-4e58-a465-179a00f59aa1",
        "outputId": "dc66daa8-948c-4386-f386-537991761fcd"
      },
      "outputs": [
        {
          "name": "stdout",
          "output_type": "stream",
          "text": [
            "loss:1.107960\n",
            "time taken 158.23650932312012\n"
          ]
        }
      ],
      "source": [
        "start_time = time.time()\n",
        "nn_tanh = MLP([128, 256, 256, 10], [None, 'tanh', 'tanh', 'softmax'],  momentum = 0.9, weight_decay = 0.0005, keep_prob = 0.9, batch_normal = True)\n",
        "tanh_cross_entropy = nn_tanh.fit(X_train_splited, y_train_onehot_splited, learning_rate = 0.001, epochs = 100, batch_size = 64)\n",
        "print(\"loss:%f\"%tanh_cross_entropy[-1])\n",
        "end_time = time.time()\n",
        "print(\"time taken\", end_time - start_time)"
      ]
    },
    {
      "cell_type": "code",
      "execution_count": null,
      "id": "877dc54e-dc6c-4391-b008-6119bcd23041",
      "metadata": {
        "id": "877dc54e-dc6c-4391-b008-6119bcd23041",
        "outputId": "674644bd-d7dc-4740-b879-ba7dd9e9c0ab"
      },
      "outputs": [
        {
          "name": "stdout",
          "output_type": "stream",
          "text": [
            "loss:1.446873\n",
            "time taken 153.492999792099\n"
          ]
        }
      ],
      "source": [
        "start_time = time.time()\n",
        "nn_log = MLP([128, 256, 256, 10], [None, 'logistic', 'logistic', 'softmax'],  momentum = 0.9, weight_decay = 0.0005, keep_prob = 0.9, batch_normal = True)\n",
        "log_cross_entropy = nn_log.fit(X_train_splited, y_train_onehot_splited, learning_rate = 0.001, epochs = 100, batch_size = 64)\n",
        "print(\"loss:%f\"%log_cross_entropy[-1])\n",
        "end_time = time.time()\n",
        "print(\"time taken\", end_time - start_time)"
      ]
    },
    {
      "cell_type": "code",
      "execution_count": null,
      "id": "bc75bf5b-151c-43c1-9fa7-ed2b5904749b",
      "metadata": {
        "id": "bc75bf5b-151c-43c1-9fa7-ed2b5904749b",
        "outputId": "985ca529-e6cd-4bcb-c83a-cfd0b70fe38c"
      },
      "outputs": [
        {
          "data": {
            "image/png": "[encoded data removed]",
            "text/plain": [
              "<Figure size 640x480 with 1 Axes>"
            ]
          },
          "metadata": {},
          "output_type": "display_data"
        }
      ],
      "source": [
        "plt.plot(relu_cross_entropy, label = \"relu\")\n",
        "plt.plot(gelu_cross_entropy, label = \"gelu\")\n",
        "plt.plot(tanh_cross_entropy, label = \"tanh\")\n",
        "plt.plot(log_cross_entropy, label = \"log\")\n",
        "plt.xlabel('epochs')\n",
        "plt.ylabel('Cross entropy loss')\n",
        "plt.legend()\n",
        "plt.show()"
      ]
    },
    {
      "cell_type": "code",
      "execution_count": null,
      "id": "2ad9dd66-e36d-4615-94e8-dae6c894e3f1",
      "metadata": {
        "id": "2ad9dd66-e36d-4615-94e8-dae6c894e3f1"
      },
      "outputs": [],
      "source": [
        "def confusion_matrix(y, output):\n",
        "    \"\"\"\n",
        "    the function which has the true labels and the output of the model prediction\n",
        "    decode the output and create a confusion matrix\n",
        "    y: true labels\n",
        "    output: the output of the model prediction\n",
        "    \"\"\"\n",
        "    y_pred = []\n",
        "    for i in output:\n",
        "        y_pred.append(i[0])\n",
        "    y_pred = np.argmax(y_pred, axis = 1)\n",
        "\n",
        "    n = len(np.unique(y))\n",
        "    matrix = np.zeros((n, n))\n",
        "    for i in range(len(y)):\n",
        "        matrix[y[i], y_pred[i]] += 1\n",
        "    return matrix"
      ]
    },
    {
      "cell_type": "code",
      "execution_count": null,
      "id": "31430391-561a-499d-b4c4-f9d4ccc108af",
      "metadata": {
        "id": "31430391-561a-499d-b4c4-f9d4ccc108af"
      },
      "outputs": [],
      "source": [
        "# created by chatgpt\n",
        "def evaluate(confusion_matrix):\n",
        "    \"\"\"\n",
        "    the function is used to calculate the accuracy, precision,\n",
        "    recall and f1-score of the model to evaluate the performance\n",
        "    confusion_matrix: the confusion matrix created by\n",
        "    confusion_matrix function\n",
        "    \"\"\"\n",
        "    TrueP = np.diag(confusion_matrix)\n",
        "    FalseP = np.sum(confusion_matrix, axis = 0) - TrueP\n",
        "    FalseN = np.sum(confusion_matrix, axis = 1) - TrueP\n",
        "    TrueN = np.sum(confusion_matrix) - (FalseP + FalseN + TrueP)\n",
        "\n",
        "    precision = TrueP / (TrueP + FalseP)\n",
        "    recall = TrueP / (TrueP + FalseN)\n",
        "\n",
        "    print(\"Overall Accuracy:\", np.sum(TrueP) / np.sum(confusion_matrix))\n",
        "    print(\"Average Rrecision\", np.mean(precision))\n",
        "    print(\"Average Recall\", np.mean(recall))\n",
        "    print(\"Average F1-score\", np.mean(2 * (precision * recall) / (precision + recall)))"
      ]
    },
    {
      "cell_type": "code",
      "execution_count": null,
      "id": "e61d2cb0-9485-44b6-bc1c-9b29a20daade",
      "metadata": {
        "id": "e61d2cb0-9485-44b6-bc1c-9b29a20daade",
        "outputId": "5f65782e-e646-4fa2-f29c-c3fdd44d68ec"
      },
      "outputs": [
        {
          "name": "stdout",
          "output_type": "stream",
          "text": [
            "relu\n",
            "Overall Accuracy: 0.6502\n",
            "Average Rrecision 0.6556834412229202\n",
            "Average Recall 0.6502451932939539\n",
            "Average F1-score 0.6477803962309132\n",
            "\n",
            "gelu\n",
            "Overall Accuracy: 0.46145\n",
            "Average Rrecision 0.45669365720382976\n",
            "Average Recall 0.4616895224384045\n",
            "Average F1-score 0.4527063302467715\n",
            "\n",
            "tanh\n",
            "Overall Accuracy: 0.5921\n",
            "Average Rrecision 0.5891847438037922\n",
            "Average Recall 0.5922218402615774\n",
            "Average F1-score 0.5894677019443725\n",
            "\n",
            "logistic\n",
            "Overall Accuracy: 0.47845\n",
            "Average Rrecision 0.476269306547591\n",
            "Average Recall 0.4785795742210583\n",
            "Average F1-score 0.4704809548687547\n"
          ]
        }
      ],
      "source": [
        "# training set\n",
        "print(\"relu\")\n",
        "y_hat_relu_train = nn_relu.predict(X_train_splited)\n",
        "matrix_relu_trian = confusion_matrix(y_train_splited, y_hat_relu_train)\n",
        "evaluate(matrix_relu_trian)\n",
        "\n",
        "print(\"\\ngelu\")\n",
        "y_hat_gelu_train = nn_gelu.predict(X_train_splited)\n",
        "matrix_gelu_trian = confusion_matrix(y_train_splited, y_hat_gelu_train)\n",
        "evaluate(matrix_gelu_trian)\n",
        "\n",
        "print(\"\\ntanh\")\n",
        "y_hat_tanh_train = nn_tanh.predict(X_train_splited)\n",
        "matrix_tanh_trian = confusion_matrix(y_train_splited, y_hat_tanh_train)\n",
        "evaluate(matrix_tanh_trian)\n",
        "\n",
        "print(\"\\nlogistic\")\n",
        "y_hat_log_train = nn_log.predict(X_train_splited)\n",
        "matrix_log_trian = confusion_matrix(y_train_splited, y_hat_log_train)\n",
        "evaluate(matrix_log_trian)"
      ]
    },
    {
      "cell_type": "code",
      "execution_count": null,
      "id": "aa1b0a99-79ab-4155-85b3-21bafb801ec6",
      "metadata": {
        "id": "aa1b0a99-79ab-4155-85b3-21bafb801ec6",
        "outputId": "b804ea80-7da3-4162-af46-28fa13ac095f"
      },
      "outputs": [
        {
          "name": "stdout",
          "output_type": "stream",
          "text": [
            "relu\n",
            "Overall Accuracy: 0.4706\n",
            "Average Rrecision 0.47537804056243277\n",
            "Average Recall 0.4703230970178984\n",
            "Average F1-score 0.4682956940765389\n",
            "\n",
            "gelu\n",
            "Overall Accuracy: 0.4468\n",
            "Average Rrecision 0.4415817284003201\n",
            "Average Recall 0.44605097125283066\n",
            "Average F1-score 0.4366392875017642\n",
            "\n",
            "tanh\n",
            "Overall Accuracy: 0.4689\n",
            "Average Rrecision 0.46406813884379694\n",
            "Average Recall 0.4684795822537121\n",
            "Average F1-score 0.46498412638057357\n",
            "\n",
            "logistic\n",
            "Overall Accuracy: 0.4486\n",
            "Average Rrecision 0.44506464529248346\n",
            "Average Recall 0.44801371881466084\n",
            "Average F1-score 0.43995514309672484\n"
          ]
        }
      ],
      "source": [
        "#validation set\n",
        "print(\"relu\")\n",
        "y_hat_relu_valid = nn_relu.predict(X_valid)\n",
        "matrix_relu_valid = confusion_matrix(y_valid, y_hat_relu_valid)\n",
        "evaluate(matrix_relu_valid)\n",
        "\n",
        "print(\"\\ngelu\")\n",
        "y_hat_gelu_valid = nn_gelu.predict(X_valid)\n",
        "matrix_gelu_valid = confusion_matrix(y_valid, y_hat_gelu_valid)\n",
        "evaluate(matrix_gelu_valid)\n",
        "\n",
        "print(\"\\ntanh\")\n",
        "y_hat_tanh_valid = nn_tanh.predict(X_valid)\n",
        "matrix_tanh_valid = confusion_matrix(y_valid, y_hat_tanh_valid)\n",
        "evaluate(matrix_tanh_valid)\n",
        "\n",
        "print(\"\\nlogistic\")\n",
        "y_hat_log_valid = nn_log.predict(X_valid)\n",
        "matrix_log_valid = confusion_matrix(y_valid, y_hat_log_valid)\n",
        "evaluate(matrix_log_valid)"
      ]
    },
    {
      "cell_type": "markdown",
      "id": "0608fd28-15de-4eb9-8928-aac5ca9f67ff",
      "metadata": {
        "id": "0608fd28-15de-4eb9-8928-aac5ca9f67ff"
      },
      "source": [
        "Batch Normalization"
      ]
    },
    {
      "cell_type": "code",
      "execution_count": null,
      "id": "098e033f-6404-4fa4-a555-491da17f465d",
      "metadata": {
        "id": "098e033f-6404-4fa4-a555-491da17f465d",
        "outputId": "3b178f5a-2936-4a5c-b015-1865cbd2cb60"
      },
      "outputs": [
        {
          "name": "stdout",
          "output_type": "stream",
          "text": [
            "loss:0.965746\n",
            "time taken 96.15599918365479\n"
          ]
        }
      ],
      "source": [
        "start_time = time.time()\n",
        "nn_relu_not_BN = MLP([128, 256, 256, 10], [None, 'relu', 'relu', 'softmax'],  momentum = 0.9, weight_decay = 0.0005, keep_prob = 0.9, batch_normal = False)\n",
        "relu_not_BN_cross_entropy = nn_relu_not_BN.fit(X_train_splited, y_train_onehot_splited, learning_rate = 0.001, epochs = 100, batch_size = 64)\n",
        "print(\"loss:%f\"%relu_not_BN_cross_entropy[-1])\n",
        "end_time = time.time()\n",
        "print(\"time taken\", end_time - start_time)"
      ]
    },
    {
      "cell_type": "code",
      "execution_count": null,
      "id": "0d050526-c6ef-4e31-9caa-fa95bbbc2cdb",
      "metadata": {
        "id": "0d050526-c6ef-4e31-9caa-fa95bbbc2cdb",
        "outputId": "a25e240e-20d7-490c-a834-4caf96875892"
      },
      "outputs": [
        {
          "name": "stdout",
          "output_type": "stream",
          "text": [
            "Evaluate on Training set:\n",
            "Overall Accuracy: 0.672175\n",
            "Average Rrecision 0.6698098623846198\n",
            "Average Recall 0.6722540932792715\n",
            "Average F1-score 0.6701184129768152\n",
            "\n",
            "Evaluate on Validation set:\n",
            "Overall Accuracy: 0.5386\n",
            "Average Rrecision 0.5347662800647671\n",
            "Average Recall 0.5382759004729418\n",
            "Average F1-score 0.5352606779195479\n"
          ]
        }
      ],
      "source": [
        "#training\n",
        "print(\"Evaluate on Training set:\")\n",
        "y_hat_relu_train_notBN = nn_relu_not_BN.predict(X_train_splited)\n",
        "matrix_relu_trian_notBN = confusion_matrix(y_train_splited, y_hat_relu_train_notBN)\n",
        "evaluate(matrix_relu_trian_notBN)\n",
        "\n",
        "print(\"\\nEvaluate on Validation set:\")\n",
        "#validation\n",
        "y_hat_relu_valid_notBN = nn_relu_not_BN.predict(X_valid)\n",
        "matrix_relu_valid_notBN = confusion_matrix(y_valid, y_hat_relu_valid_notBN)\n",
        "evaluate(matrix_relu_valid_notBN)"
      ]
    },
    {
      "cell_type": "code",
      "execution_count": null,
      "id": "5e8d0456-7bf7-4f0a-a744-ec3dfecb944c",
      "metadata": {
        "id": "5e8d0456-7bf7-4f0a-a744-ec3dfecb944c",
        "outputId": "23014c62-98fd-40ff-f485-c91aa5db37e8"
      },
      "outputs": [
        {
          "data": {
            "image/png": "[encoded data removed]",
            "text/plain": [
              "<Figure size 640x480 with 1 Axes>"
            ]
          },
          "metadata": {},
          "output_type": "display_data"
        }
      ],
      "source": [
        "plt.plot(relu_cross_entropy, label = \"with BN\")\n",
        "plt.plot(relu_not_BN_cross_entropy, label = \"without BN\")\n",
        "plt.xlabel('epochs')\n",
        "plt.ylabel('Cross entropy loss')\n",
        "plt.legend()\n",
        "plt.show()"
      ]
    },
    {
      "cell_type": "markdown",
      "id": "70a88db4-9195-41da-b2fb-b998e4a8cfd1",
      "metadata": {
        "id": "70a88db4-9195-41da-b2fb-b998e4a8cfd1"
      },
      "source": [
        "Dropout"
      ]
    },
    {
      "cell_type": "code",
      "execution_count": null,
      "id": "e548855b-ffb1-4e8b-99f4-2a0abc287943",
      "metadata": {
        "id": "e548855b-ffb1-4e8b-99f4-2a0abc287943",
        "outputId": "aad5d6df-10e8-43bd-ad57-7e9c8d83d63c"
      },
      "outputs": [
        {
          "name": "stdout",
          "output_type": "stream",
          "text": [
            "loss:0.282233\n",
            "time taken 122.6269884109497\n"
          ]
        }
      ],
      "source": [
        "start_time = time.time()\n",
        "nn_relu_noDrop = MLP([128, 256, 256, 10], [None, 'relu', 'relu', 'softmax'],  momentum = 0.9, weight_decay = 0.0005, keep_prob = 1, batch_normal = True)\n",
        "relu_noDrop_cross_entropy = nn_relu_noDrop.fit(X_train_splited, y_train_onehot_splited, learning_rate = 0.001, epochs = 100, batch_size = 64)\n",
        "print(\"loss:%f\"%relu_noDrop_cross_entropy[-1])\n",
        "end_time = time.time()\n",
        "print(\"time taken\", end_time - start_time)"
      ]
    },
    {
      "cell_type": "code",
      "execution_count": null,
      "id": "d9ed7348-5900-44a1-bfdf-da772338cc1c",
      "metadata": {
        "id": "d9ed7348-5900-44a1-bfdf-da772338cc1c",
        "outputId": "620f931d-e630-4687-fe60-04bb2517613f"
      },
      "outputs": [
        {
          "name": "stdout",
          "output_type": "stream",
          "text": [
            "Evaluate on Training set:\n",
            "Overall Accuracy: 0.86505\n",
            "Average Rrecision 0.8666681692603826\n",
            "Average Recall 0.865014839519181\n",
            "Average F1-score 0.8644620567697554\n",
            "\n",
            "Evaluate on Validation set:\n",
            "Overall Accuracy: 0.4636\n",
            "Average Rrecision 0.46260920540430944\n",
            "Average Recall 0.46337781377981146\n",
            "Average F1-score 0.46176145461069423\n"
          ]
        }
      ],
      "source": [
        "#training\n",
        "print(\"Evaluate on Training set:\")\n",
        "y_hat_relu_train_notDrop = nn_relu_noDrop.predict(X_train_splited)\n",
        "matrix_relu_trian_notDrop = confusion_matrix(y_train_splited, y_hat_relu_train_notDrop)\n",
        "evaluate(matrix_relu_trian_notDrop)\n",
        "\n",
        "print(\"\\nEvaluate on Validation set:\")\n",
        "#validation\n",
        "y_hat_relu_valid_notDrop = nn_relu_noDrop.predict(X_valid)\n",
        "matrix_relu_valid_notDrop = confusion_matrix(y_valid, y_hat_relu_valid_notDrop)\n",
        "evaluate(matrix_relu_valid_notDrop)"
      ]
    },
    {
      "cell_type": "code",
      "execution_count": null,
      "id": "eaf1e445-4183-496c-acf9-bcbd2d590ce5",
      "metadata": {
        "id": "eaf1e445-4183-496c-acf9-bcbd2d590ce5",
        "outputId": "9780fbc4-f64f-4775-90ef-c85f6300a954"
      },
      "outputs": [
        {
          "data": {
            "image/png": "[encoded data removed]",
            "text/plain": [
              "<Figure size 640x480 with 1 Axes>"
            ]
          },
          "metadata": {},
          "output_type": "display_data"
        }
      ],
      "source": [
        "plt.plot(relu_cross_entropy, label = \"with Dropout\")\n",
        "plt.plot(relu_noDrop_cross_entropy, label = \"without Dropout\")\n",
        "plt.xlabel('epochs')\n",
        "plt.ylabel('Cross entropy loss')\n",
        "plt.legend()\n",
        "plt.show()"
      ]
    },
    {
      "cell_type": "markdown",
      "id": "4e85c12b-40c2-4311-8eb0-8a1a1883b353",
      "metadata": {
        "id": "4e85c12b-40c2-4311-8eb0-8a1a1883b353"
      },
      "source": [
        "layer size"
      ]
    },
    {
      "cell_type": "code",
      "execution_count": null,
      "id": "76f67806-9b44-4565-bb80-581c309160fe",
      "metadata": {
        "id": "76f67806-9b44-4565-bb80-581c309160fe",
        "outputId": "5856064c-1c73-4606-c7ce-ba69874dcd73"
      },
      "outputs": [
        {
          "name": "stdout",
          "output_type": "stream",
          "text": [
            "loss:1.286600\n",
            "time taken 64.66199827194214\n",
            "loss:0.849013\n",
            "time taken 373.1175093650818\n"
          ]
        }
      ],
      "source": [
        "start_time = time.time()\n",
        "nn_relu_layer128 = MLP([128, 128, 128, 10], [None, 'relu', 'relu', 'softmax'],  momentum = 0.9, weight_decay = 0.0005, keep_prob = 0.9, batch_normal = True)\n",
        "relu_layer128_cross_entropy = nn_relu_layer128.fit(X_train_splited, y_train_onehot_splited, learning_rate = 0.001, epochs = 100, batch_size = 128)\n",
        "print(\"loss:%f\"%relu_layer128_cross_entropy[-1])\n",
        "end_time = time.time()\n",
        "print(\"time taken\", end_time - start_time)\n",
        "\n",
        "start_time = time.time()\n",
        "nn_relu_layer512 = MLP([128, 512, 512, 10], [None, 'relu', 'relu', 'softmax'],  momentum = 0.9, weight_decay = 0.0005, keep_prob = 0.9, batch_normal = True)\n",
        "relu_layer512_cross_entropy = nn_relu_layer512.fit(X_train_splited, y_train_onehot_splited, learning_rate = 0.001, epochs = 100, batch_size = 128)\n",
        "print(\"loss:%f\"%relu_layer512_cross_entropy[-1])\n",
        "end_time = time.time()\n",
        "print(\"time taken\", end_time - start_time)"
      ]
    },
    {
      "cell_type": "code",
      "execution_count": null,
      "id": "f6ff20e8-6494-4a4e-b15e-0252e2e28ba1",
      "metadata": {
        "id": "f6ff20e8-6494-4a4e-b15e-0252e2e28ba1",
        "outputId": "30999d59-ebc8-442e-81f2-4d2de0757dda"
      },
      "outputs": [
        {
          "name": "stdout",
          "output_type": "stream",
          "text": [
            "Evaluate on Training set:\n",
            "Overall Accuracy: 0.5151\n",
            "Average Rrecision 0.5153734158985286\n",
            "Average Recall 0.515170723509197\n",
            "Average F1-score 0.5105007149193507\n",
            "\n",
            "Evaluate on Validation set:\n",
            "Overall Accuracy: 0.4641\n",
            "Average Rrecision 0.4635336373804024\n",
            "Average Recall 0.4640349252474629\n",
            "Average F1-score 0.4577592393432085\n",
            "\n",
            "Evaluate on Training set:\n",
            "Overall Accuracy: 0.670675\n",
            "Average Rrecision 0.6715729102259215\n",
            "Average Recall 0.6706588851273632\n",
            "Average F1-score 0.6680909170249121\n",
            "\n",
            "Evaluate on Validation set:\n",
            "Overall Accuracy: 0.4809\n",
            "Average Rrecision 0.47970315844272077\n",
            "Average Recall 0.48083488129912677\n",
            "Average F1-score 0.47731521684839234\n"
          ]
        }
      ],
      "source": [
        "#training\n",
        "print(\"Evaluate on Training set:\")\n",
        "y_hat_relu_train_layer128 = nn_relu_layer128.predict(X_train_splited)\n",
        "matrix_relu_trian_layer128 = confusion_matrix(y_train_splited, y_hat_relu_train_layer128)\n",
        "evaluate(matrix_relu_trian_layer128)\n",
        "\n",
        "print(\"\\nEvaluate on Validation set:\")\n",
        "#validation\n",
        "y_hat_relu_valid_layer128 = nn_relu_layer128.predict(X_valid)\n",
        "matrix_relu_valid_layer128 = confusion_matrix(y_valid, y_hat_relu_valid_layer128)\n",
        "evaluate(matrix_relu_valid_layer128)\n",
        "\n",
        "#training\n",
        "print(\"\\nEvaluate on Training set:\")\n",
        "y_hat_relu_train_layer512 = nn_relu_layer512.predict(X_train_splited)\n",
        "matrix_relu_trian_layer512 = confusion_matrix(y_train_splited, y_hat_relu_train_layer512)\n",
        "evaluate(matrix_relu_trian_layer512)\n",
        "\n",
        "print(\"\\nEvaluate on Validation set:\")\n",
        "#validation\n",
        "y_hat_relu_valid_layer512 = nn_relu_layer512.predict(X_valid)\n",
        "matrix_relu_valid_layer512 = confusion_matrix(y_valid, y_hat_relu_valid_layer512)\n",
        "evaluate(matrix_relu_valid_layer512)"
      ]
    },
    {
      "cell_type": "markdown",
      "id": "2d60bfd7-1529-445c-8a84-f8b9bb81523b",
      "metadata": {
        "id": "2d60bfd7-1529-445c-8a84-f8b9bb81523b"
      },
      "source": [
        "batch size and learning rate"
      ]
    },
    {
      "cell_type": "code",
      "execution_count": null,
      "id": "728e59d0-3196-45ca-a688-a36b72fc51c0",
      "metadata": {
        "id": "728e59d0-3196-45ca-a688-a36b72fc51c0",
        "outputId": "cde1210f-ddac-46c3-b4c5-9536fd762426"
      },
      "outputs": [
        {
          "name": "stdout",
          "output_type": "stream",
          "text": [
            "loss:0.865781\n",
            "time taken 155.94499850273132\n",
            "loss:1.477955\n",
            "time taken 163.0080008506775\n",
            "loss:1.137704\n",
            "time taken 159.06099939346313\n"
          ]
        }
      ],
      "source": [
        "start_time = time.time()\n",
        "nn_relu_batch64_lr1 = MLP([128, 256, 256, 10], [None, 'relu', 'relu', 'softmax'],  momentum = 0.9, weight_decay = 0.0005, keep_prob = 0.9, batch_normal = True)\n",
        "relu_batch64_lr1_cross_entropy = nn_relu_batch64_lr1.fit(X_train_splited, y_train_onehot_splited, learning_rate = 0.001, epochs = 100, batch_size = 64)\n",
        "print(\"loss:%f\"%relu_batch64_lr1_cross_entropy[-1])\n",
        "end_time = time.time()\n",
        "print(\"time taken\", end_time - start_time)\n",
        "\n",
        "start_time = time.time()\n",
        "nn_relu_batch64_lr01 = MLP([128, 256, 256, 10], [None, 'relu', 'relu', 'softmax'],  momentum = 0.9, weight_decay = 0.0005, keep_prob = 0.9, batch_normal = True)\n",
        "relu_batch64_lr01_cross_entropy = nn_relu_batch64_lr01.fit(X_train_splited, y_train_onehot_splited, learning_rate = 0.0001, epochs = 100, batch_size = 64)\n",
        "print(\"loss:%f\"%relu_batch64_lr01_cross_entropy[-1])\n",
        "end_time = time.time()\n",
        "print(\"time taken\", end_time - start_time)\n",
        "\n",
        "start_time = time.time()\n",
        "nn_relu_batch64_lr05 = MLP([128, 256, 256, 10], [None, 'relu', 'relu', 'softmax'],  momentum = 0.9, weight_decay = 0.0005, keep_prob = 0.9, batch_normal = True)\n",
        "relu_batch64_lr05_cross_entropy = nn_relu_batch64_lr05.fit(X_train_splited, y_train_onehot_splited, learning_rate = 0.0005, epochs = 100, batch_size = 64)\n",
        "print(\"loss:%f\"%relu_batch64_lr05_cross_entropy[-1])\n",
        "end_time = time.time()\n",
        "print(\"time taken\", end_time - start_time)"
      ]
    },
    {
      "cell_type": "code",
      "execution_count": null,
      "id": "0deca771-f098-4235-ad4a-1de0cd8d82ea",
      "metadata": {
        "id": "0deca771-f098-4235-ad4a-1de0cd8d82ea",
        "outputId": "c7e0388a-5584-4c57-cec9-6d2177ec6dc5"
      },
      "outputs": [
        {
          "name": "stdout",
          "output_type": "stream",
          "text": [
            "learning rate: 0.001, batch size: 64\n",
            "Evaluate on Training set:\n",
            "Overall Accuracy: 0.65845\n",
            "Average Rrecision 0.6586254989244037\n",
            "Average Recall 0.65849896150716\n",
            "Average F1-score 0.6553438843512664\n",
            "\n",
            "Evaluate on Validation set:\n",
            "Overall Accuracy: 0.4697\n",
            "Average Rrecision 0.4681045426007424\n",
            "Average Recall 0.4695888113793637\n",
            "Average F1-score 0.4655433916989288\n",
            "\n",
            "learning rate: 0.0001, batch size: 64\n",
            "Evaluate on Training set:\n",
            "Overall Accuracy: 0.46\n",
            "Average Rrecision 0.45753359924568526\n",
            "Average Recall 0.4600968266044928\n",
            "Average F1-score 0.4553844187853967\n",
            "\n",
            "Evaluate on Validation set:\n",
            "Overall Accuracy: 0.4278\n",
            "Average Rrecision 0.42559922456438315\n",
            "Average Recall 0.4274702347864716\n",
            "Average F1-score 0.4226662585688379\n",
            "\n",
            "learning rate: 0.0005, batch size: 64\n",
            "Evaluate on Training set:\n",
            "Overall Accuracy: 0.569075\n",
            "Average Rrecision 0.56996304086204\n",
            "Average Recall 0.5691030258489274\n",
            "Average F1-score 0.5651649176548875\n",
            "\n",
            "Evaluate on Validation set:\n",
            "Overall Accuracy: 0.4796\n",
            "Average Rrecision 0.4796286504917681\n",
            "Average Recall 0.47933861734644373\n",
            "Average F1-score 0.474880782963813\n"
          ]
        }
      ],
      "source": [
        "print('learning rate: 0.001, batch size: 64')\n",
        "#training\n",
        "print(\"Evaluate on Training set:\")\n",
        "y_hat_relu_train_batch64_lr1 = nn_relu_batch64_lr1.predict(X_train_splited)\n",
        "matrix_relu_trian_batch64_lr1 = confusion_matrix(y_train_splited, y_hat_relu_train_batch64_lr1)\n",
        "evaluate(matrix_relu_trian_batch64_lr1)\n",
        "\n",
        "#validation\n",
        "print(\"\\nEvaluate on Validation set:\")\n",
        "y_hat_relu_valid_batch64_lr1 = nn_relu_batch64_lr1.predict(X_valid)\n",
        "matrix_relu_valid_batch64_lr1 = confusion_matrix(y_valid, y_hat_relu_valid_batch64_lr1)\n",
        "evaluate(matrix_relu_valid_batch64_lr1)\n",
        "\n",
        "print('\\nlearning rate: 0.0001, batch size: 64')\n",
        "#training\n",
        "print(\"Evaluate on Training set:\")\n",
        "y_hat_relu_train_batch64_lr01 = nn_relu_batch64_lr01.predict(X_train_splited)\n",
        "matrix_relu_trian_batch64_lr01 = confusion_matrix(y_train_splited, y_hat_relu_train_batch64_lr01)\n",
        "evaluate(matrix_relu_trian_batch64_lr01)\n",
        "\n",
        "#validation\n",
        "print(\"\\nEvaluate on Validation set:\")\n",
        "y_hat_relu_valid_batch64_lr01 = nn_relu_batch64_lr01.predict(X_valid)\n",
        "matrix_relu_valid_batch64_lr01 = confusion_matrix(y_valid, y_hat_relu_valid_batch64_lr01)\n",
        "evaluate(matrix_relu_valid_batch64_lr01)\n",
        "\n",
        "print('\\nlearning rate: 0.0005, batch size: 64')\n",
        "#training\n",
        "print(\"Evaluate on Training set:\")\n",
        "y_hat_relu_train_batch64_lr05 = nn_relu_batch64_lr05.predict(X_train_splited)\n",
        "matrix_relu_trian_batch64_lr05 = confusion_matrix(y_train_splited, y_hat_relu_train_batch64_lr05)\n",
        "evaluate(matrix_relu_trian_batch64_lr05)\n",
        "\n",
        "#validation\n",
        "print(\"\\nEvaluate on Validation set:\")\n",
        "y_hat_relu_valid_batch64_lr05 = nn_relu_batch64_lr05.predict(X_valid)\n",
        "matrix_relu_valid_batch64_lr05 = confusion_matrix(y_valid, y_hat_relu_valid_batch64_lr05)\n",
        "evaluate(matrix_relu_valid_batch64_lr05)"
      ]
    },
    {
      "cell_type": "code",
      "execution_count": null,
      "id": "99072d13-cc8e-4d8b-bc52-42540533483f",
      "metadata": {
        "id": "99072d13-cc8e-4d8b-bc52-42540533483f",
        "outputId": "937ae37b-3518-4816-f586-7741bfe8f5e9"
      },
      "outputs": [
        {
          "name": "stdout",
          "output_type": "stream",
          "text": [
            "loss:1.130667\n",
            "time taken 117.14799880981445\n",
            "loss:1.589309\n",
            "time taken 109.60600066184998\n",
            "loss:1.298076\n",
            "time taken 113.35601902008057\n"
          ]
        }
      ],
      "source": [
        "start_time = time.time()\n",
        "nn_relu_batch128_lr1 = MLP([128, 256, 256, 10], [None, 'relu', 'relu', 'softmax'],  momentum = 0.9, weight_decay = 0.0005, keep_prob = 0.9, batch_normal = True)\n",
        "relu_batch128_lr1_cross_entropy = nn_relu_batch128_lr1.fit(X_train_splited, y_train_onehot_splited, learning_rate = 0.001, epochs = 100, batch_size = 128)\n",
        "print(\"loss:%f\"%relu_batch128_lr1_cross_entropy[-1])\n",
        "end_time = time.time()\n",
        "print(\"time taken\", end_time - start_time)\n",
        "\n",
        "start_time = time.time()\n",
        "nn_relu_batch128_lr01 = MLP([128, 256, 256, 10], [None, 'relu', 'relu', 'softmax'],  momentum = 0.9, weight_decay = 0.0005, keep_prob = 0.9, batch_normal = True)\n",
        "relu_batch128_lr01_cross_entropy = nn_relu_batch128_lr01.fit(X_train_splited, y_train_onehot_splited, learning_rate = 0.0001, epochs = 100, batch_size = 128)\n",
        "print(\"loss:%f\"%relu_batch128_lr01_cross_entropy[-1])\n",
        "end_time = time.time()\n",
        "print(\"time taken\", end_time - start_time)\n",
        "\n",
        "start_time = time.time()\n",
        "nn_relu_batch128_lr05 = MLP([128, 256, 256, 10], [None, 'relu', 'relu', 'softmax'],  momentum = 0.9, weight_decay = 0.0005, keep_prob = 0.9, batch_normal = True)\n",
        "relu_batch128_lr05_cross_entropy = nn_relu_batch128_lr05.fit(X_train_splited, y_train_onehot_splited, learning_rate = 0.0005, epochs = 100, batch_size = 128)\n",
        "print(\"loss:%f\"%relu_batch128_lr05_cross_entropy[-1])\n",
        "end_time = time.time()\n",
        "print(\"time taken\", end_time - start_time)"
      ]
    },
    {
      "cell_type": "code",
      "execution_count": null,
      "id": "b229e8b9-2f8c-4452-9a20-4f4467b26ec2",
      "metadata": {
        "id": "b229e8b9-2f8c-4452-9a20-4f4467b26ec2",
        "outputId": "f5b6c979-2ada-4559-8c69-11e67aeeb631"
      },
      "outputs": [
        {
          "name": "stdout",
          "output_type": "stream",
          "text": [
            "\n",
            "learning rate: 0.001, batch size: 128\n",
            "Evaluate on Training set:\n",
            "Overall Accuracy: 0.571225\n",
            "Average Rrecision 0.5734646903482699\n",
            "Average Recall 0.5712604700338418\n",
            "Average F1-score 0.5673503292889501\n",
            "\n",
            "Evaluate on Validation set:\n",
            "Overall Accuracy: 0.4678\n",
            "Average Rrecision 0.4672891655155307\n",
            "Average Recall 0.4675820807207902\n",
            "Average F1-score 0.4627147632388914\n",
            "\n",
            "learning rate: 0.0001, batch size: 128\n",
            "Evaluate on Training set:\n",
            "Overall Accuracy: 0.4189\n",
            "Average Rrecision 0.4150488688636097\n",
            "Average Recall 0.4190106228012434\n",
            "Average F1-score 0.4143764957607141\n",
            "\n",
            "Evaluate on Validation set:\n",
            "Overall Accuracy: 0.4074\n",
            "Average Rrecision 0.404087843754127\n",
            "Average Recall 0.4069208488709476\n",
            "Average F1-score 0.40262894958955203\n",
            "\n",
            "learning rate: 0.0005, batch size: 128\n",
            "Evaluate on Training set:\n",
            "Overall Accuracy: 0.513025\n",
            "Average Rrecision 0.514891198147484\n",
            "Average Recall 0.513128671002961\n",
            "Average F1-score 0.5069512163651869\n",
            "\n",
            "Evaluate on Validation set:\n",
            "Overall Accuracy: 0.4594\n",
            "Average Rrecision 0.45883629509010665\n",
            "Average Recall 0.4590423641550256\n",
            "Average F1-score 0.4521626621479344\n"
          ]
        }
      ],
      "source": [
        "print('\\nlearning rate: 0.001, batch size: 128')\n",
        "#training\n",
        "print(\"Evaluate on Training set:\")\n",
        "y_hat_relu_train_batch128_lr1 = nn_relu_batch128_lr1.predict(X_train_splited)\n",
        "matrix_relu_trian_batch128_lr1 = confusion_matrix(y_train_splited, y_hat_relu_train_batch128_lr1)\n",
        "evaluate(matrix_relu_trian_batch128_lr1)\n",
        "\n",
        "#validation\n",
        "print(\"\\nEvaluate on Validation set:\")\n",
        "y_hat_relu_valid_batch128_lr1 = nn_relu_batch128_lr1.predict(X_valid)\n",
        "matrix_relu_valid_batch128_lr1 = confusion_matrix(y_valid, y_hat_relu_valid_batch128_lr1)\n",
        "evaluate(matrix_relu_valid_batch128_lr1)\n",
        "\n",
        "print('\\nlearning rate: 0.0001, batch size: 128')\n",
        "#training\n",
        "print(\"Evaluate on Training set:\")\n",
        "y_hat_relu_train_batch128_lr01 = nn_relu_batch128_lr01.predict(X_train_splited)\n",
        "matrix_relu_trian_batch128_lr01 = confusion_matrix(y_train_splited, y_hat_relu_train_batch128_lr01)\n",
        "evaluate(matrix_relu_trian_batch128_lr01)\n",
        "\n",
        "#validation\n",
        "print(\"\\nEvaluate on Validation set:\")\n",
        "y_hat_relu_valid_batch128_lr01 = nn_relu_batch128_lr01.predict(X_valid)\n",
        "matrix_relu_valid_batch128_lr01 = confusion_matrix(y_valid, y_hat_relu_valid_batch128_lr01)\n",
        "evaluate(matrix_relu_valid_batch128_lr01)\n",
        "\n",
        "print('\\nlearning rate: 0.0005, batch size: 128')\n",
        "#training\n",
        "print(\"Evaluate on Training set:\")\n",
        "y_hat_relu_train_batch128_lr05 = nn_relu_batch128_lr05.predict(X_train_splited)\n",
        "matrix_relu_trian_batch128_lr05 = confusion_matrix(y_train_splited, y_hat_relu_train_batch128_lr05)\n",
        "evaluate(matrix_relu_trian_batch128_lr05)\n",
        "\n",
        "#validation\n",
        "print(\"\\nEvaluate on Validation set:\")\n",
        "y_hat_relu_valid_batch128_lr05 = nn_relu_batch128_lr05.predict(X_valid)\n",
        "matrix_relu_valid_batch128_lr05 = confusion_matrix(y_valid, y_hat_relu_valid_batch128_lr05)\n",
        "evaluate(matrix_relu_valid_batch128_lr05)"
      ]
    },
    {
      "cell_type": "markdown",
      "id": "045050fe-3dcf-45dd-996c-b15887bd0e61",
      "metadata": {
        "id": "045050fe-3dcf-45dd-996c-b15887bd0e61"
      },
      "source": [
        "# The Best Model"
      ]
    },
    {
      "cell_type": "code",
      "execution_count": null,
      "id": "cba0ffdf-e34e-4e17-b970-d1dc7525f0ff",
      "metadata": {
        "id": "cba0ffdf-e34e-4e17-b970-d1dc7525f0ff",
        "outputId": "bbf8a33a-5f98-4324-95da-f6908fc34deb"
      },
      "outputs": [
        {
          "name": "stdout",
          "output_type": "stream",
          "text": [
            "loss:0.790106\n",
            "time taken 579.5599956512451\n"
          ]
        }
      ],
      "source": [
        "start_time = time.time()\n",
        "nn_best = MLP([128, 512, 512, 10], [None, 'relu', 'relu', 'softmax'],  momentum = 0.9, weight_decay = 0.0005, keep_prob = 0.9, batch_normal = False)\n",
        "best_cross_entropy = nn_best.fit(X_train_splited, y_train_onehot_splited, learning_rate = 0.001, epochs = 100, batch_size = 64)\n",
        "print(\"loss:%f\"%best_cross_entropy[-1])\n",
        "end_time = time.time()\n",
        "print(\"time taken\", end_time - start_time)"
      ]
    },
    {
      "cell_type": "code",
      "execution_count": null,
      "id": "dead4d10-7f50-45b8-8458-7cd96e6fa02e",
      "metadata": {
        "id": "dead4d10-7f50-45b8-8458-7cd96e6fa02e",
        "outputId": "2aacf99a-1863-42b4-d015-55f5c8482169"
      },
      "outputs": [
        {
          "name": "stdout",
          "output_type": "stream",
          "text": [
            "Evaluate on testing set:\n",
            "Overall Accuracy: 0.548\n",
            "Average Rrecision 0.5459179540200985\n",
            "Average Recall 0.5479999999999999\n",
            "Average F1-score 0.5463780800153547\n"
          ]
        }
      ],
      "source": [
        "print(\"Evaluate on testing set:\")\n",
        "y_hat_best = nn_best.predict(X_test)\n",
        "matrix_best = confusion_matrix(y_test, y_hat_best)\n",
        "evaluate(matrix_best)"
      ]
    },
    {
      "cell_type": "code",
      "execution_count": null,
      "id": "f9c2aba8-cce2-41a3-b4d9-80c0eb80693b",
      "metadata": {
        "id": "f9c2aba8-cce2-41a3-b4d9-80c0eb80693b",
        "outputId": "dc0041ca-aab2-4a92-aa90-381e823fb3af"
      },
      "outputs": [
        {
          "data": {
            "image/png": "[encoded data removed]",
            "text/plain": [
              "<Figure size 640x480 with 1 Axes>"
            ]
          },
          "metadata": {},
          "output_type": "display_data"
        }
      ],
      "source": [
        "plt.plot(best_cross_entropy)\n",
        "plt.xlabel('epochs')\n",
        "plt.ylabel('Cross entropy loss')\n",
        "plt.show()"
      ]
    }
  ],
  "metadata": {
    "kernelspec": {
      "display_name": "Python 3 (ipykernel)",
      "language": "python",
      "name": "python3"
    },
    "language_info": {
      "codemirror_mode": {
        "name": "ipython",
        "version": 3
      },
      "file_extension": ".py",
      "mimetype": "text/x-python",
      "name": "python",
      "nbconvert_exporter": "python",
      "pygments_lexer": "ipython3",
      "version": "3.11.7"
    },
    "colab": {
      "provenance": [],
      "include_colab_link": true
    }
  },
  "nbformat": 4,
  "nbformat_minor": 5
}